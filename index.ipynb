{
 "cells": [
  {
   "cell_type": "markdown",
   "metadata": {},
   "source": [
    "# Welcome to *x* lines of Python\n",
    "\n",
    "If you're not sure what this is, [please read the introductory blog post](http://ageo.co/xlines00).\n",
    "\n",
    "Click on the following links to read and interact with the notebook. Everything you do is in your own private copy of the notebook, on your own private machine. You can't break anything! **So play away.**\n",
    "\n",
    "1. [Synthetic wedge model](notebooks/00_Synthetic_wedge_model.ipynb) — [blog post](http://ageo.co/xlines00)\n",
    "1. [Read and write SEG-Y](notebooks/01_Read_and_write_SEG-Y.ipynb) — [blog post](http://ageo.co/xlines01)\n",
    "1. [Get info from the web](notebooks/02_Get_info_from_the_web.ipynb) — [blog post](http://ageo.co/xlines02)\n",
    "1. More to come...\n",
    "\n",
    "<hr />\n",
    "\n",
    "## A note about running this notebook\n",
    "\n",
    "If you're running this on mybinder.org, you can ignore all this. It's only for people running this notebook locally.\n",
    "\n",
    "Hopefully you're already using [Anaconda](https://www.continuum.io/downloads). To make an environment for this notebook, and install `obspy`, you can do this:\n",
    "\n",
    "    # Make the environment\n",
    "    conda create -n xlines anaconda Python=3.5\n",
    "    \n",
    "    # Start it\n",
    "    source activate xlines\n",
    "\n",
    "    # Install obspy and bruges\n",
    "    conda config --add channels conda-forge\n",
    "    conda install obspy\n",
    "    pip install bruges\n",
    "    \n",
    "    # cd to directory with the notebook in it\n",
    "    jupyter notebook\n",
    "    \n",
    "<hr />\n",
    "\n",
    "## Terms of engagement\n",
    "\n",
    "- One line per English-language sentence.\n",
    "- No semi-colons or line continuation.\n",
    "- Lines can be broken for readability, especially sequence items, or function arguments.\n",
    "- `import` statements and comments don't count. I'm really interested in the bits of code that do the thing, whatever that is.\n",
    "- But we can only import libraries on conda-forge or PyPi.\n",
    "- Plotting and other kinds of inspection don't count, unless they're central to the point of the code. They're more just for seeing what you're doing.\n",
    "\n",
    "<hr />\n",
    "\n",
    "These notebooks are [hosted on GitHub](https://github.com/agile-geoscience/xlines) and served warm from the oven by [mybinder.org](http://mybinder.org/).\n",
    "\n",
    "<img src=\"https://static.squarespace.com/static/549dcda5e4b0a47d0ae1db1e/54a06d6ee4b0d158ed95f696/54a06d6fe4b0d158ed95ff15/1404227320487/1000w/open_geoscience.png\" width=\"160px\" align=\"left\" />&nbsp;&nbsp;\n",
    "Words and pictures licensed [CC-BY](https://creativecommons.org/licenses/by/4.0/). Code subject to the terms of [the Apache 2.0 license](https://github.com/agile-geoscience/xlines/blob/master/LICENSE)."
   ]
  },
  {
   "cell_type": "markdown",
   "metadata": {},
   "source": [
    "<hr />\n",
    "\n",
    "<div>\n",
    "<img src=\"https://avatars1.githubusercontent.com/u/1692321?s=50\"><p style=\"text-align:center\">© Agile Geoscience 2016</p>\n",
    "</div>"
   ]
  }
 ],
 "metadata": {
  "anaconda-cloud": {},
   "kernelspec": {
      "display_name": "Python [conda env:binder]",
      "language": "python",
      "name": "conda-env-binder-py"
   },
   "language_info": {
   "codemirror_mode": {
    "name": "ipython",
    "version": 3
   },
   "file_extension": ".py",
   "mimetype": "text/x-python",
   "name": "python",
   "nbconvert_exporter": "python",
   "pygments_lexer": "ipython3",
   "version": "3.5.2"
  }
 },
 "nbformat": 4,
 "nbformat_minor": 1
}
