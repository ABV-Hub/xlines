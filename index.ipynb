{
 "cells": [
  {
   "cell_type": "markdown",
   "metadata": {},
   "source": [
    "# Welcome to *x* lines of Python\n",
    "\n",
    "If you're not sure what this is, [please read the introductory blog post](http://agilegeoscience.com/blog).\n",
    "\n",
    "Click on the following links to read and interact with the notebook. Everything you do is in your own private copy of the notebook, on your own private machine. You can't break anything! **So play away.**\n",
    "\n",
    "1. [Synthetic wedge model](00_Synthetic_wedge_model.ipynb)\n",
    "1. More to come..."
   ]
  },
  {
   "cell_type": "markdown",
   "metadata": {},
   "source": [
    "<hr />\n",
    "\n",
    "<div>\n",
    "<img src=\"https://avatars1.githubusercontent.com/u/1692321?s=50\"><p style=\"text-align:center\">© Agile Geoscience 2016</p>\n",
    "</div>"
   ]
  }
 ],
 "metadata": {
  "kernelspec": {
   "display_name": "binder",
   "language": "python",
   "name": "binder"
  },
  "language_info": {
   "codemirror_mode": {
    "name": "ipython",
    "version": 3
   },
   "file_extension": ".py",
   "mimetype": "text/x-python",
   "name": "python",
   "nbconvert_exporter": "python",
   "pygments_lexer": "ipython3",
   "version": "3.5.2"
  }
 },
 "nbformat": 4,
 "nbformat_minor": 1
}
